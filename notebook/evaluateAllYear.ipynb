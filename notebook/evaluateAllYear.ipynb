{
 "cells": [
  {
   "cell_type": "code",
   "execution_count": null,
   "metadata": {},
   "outputs": [],
   "source": [
    "# 回到 FINRL/\n",
    "%cd .."
   ]
  },
  {
   "cell_type": "code",
   "execution_count": null,
   "metadata": {},
   "outputs": [],
   "source": [
    "from AI_Trading.src import config\n",
    "from AI_Trading.src.env_portfolio_allocation import *\n",
    "from AI_Trading.src.evaluate import *\n",
    "from AI_Trading.src import model_config\n",
    "from AI_Trading.src.preprocess import *\n",
    "from AI_Trading.src.testPortfolio import *\n",
    "from AI_Trading.src.train import *\n",
    "from AI_Trading.src.augmentation import *\n",
    "from stable_baselines3 import A2C, DDPG, PPO, SAC, TD3\n",
    "import pandas as pd\n",
    "from tqdm import tqdm\n",
    "from warnings import simplefilter\n",
    "simplefilter(action='ignore')\n",
    "import matplotlib.pyplot as plt\n",
    "matplotlib.use('Agg')\n",
    "%matplotlib inline"
   ]
  },
  {
   "cell_type": "code",
   "execution_count": null,
   "metadata": {},
   "outputs": [],
   "source": [
    "#evaluate setting\n",
    "acitonFile_path = '/Users/shrshiunhuang/Documents/Project/FinRL/AI_Trading/results/trendConcern_5y_alpha1_beta1_rolling/'\n",
    "exp = 'trendConcern_5y_alpha1_beta1_rolling'\n",
    "model_name = 'DDPG'\n",
    "save_path = os.path.join(config.EVALUATE_RESULT_PATH, exp)\n",
    "if not os.path.isdir(save_path):\n",
    "    try:\n",
    "        os.mkdir(save_path)\n",
    "    except Exception:\n",
    "        print(f'no folder {save_path}')\n",
    "        pass"
   ]
  },
  {
   "cell_type": "code",
   "execution_count": null,
   "metadata": {},
   "outputs": [],
   "source": [
    "df_annualReturn_allYear = pd.DataFrame()\n",
    "df_mdd_allYear = pd.DataFrame()\n",
    "df_sharpe_allYear = pd.DataFrame()\n",
    "df_sortino_allYear = pd.DataFrame()\n",
    "df_calmar_allYear = pd.DataFrame()\n",
    "\n",
    "df_annualReturn_rank_allYear = pd.DataFrame()\n",
    "df_mdd_rank_allYear = pd.DataFrame()\n",
    "df_sharpe_rank_allYear = pd.DataFrame()\n",
    "df_sortino_rank_allYear = pd.DataFrame()\n",
    "df_calmar_rank_allYear = pd.DataFrame()\n",
    "\n",
    "# evaluate\n",
    "for i in tqdm(range(2,len(config.TEST_START_DATE))):\n",
    "    train,trade = preprocess(config.TRAIN_START_DATE[i-2], config.TRAIN_END_DATE[i], config.TEST_START_DATE[i], config.TEST_END_DATE[i])\n",
    "\n",
    "    # load actions file\n",
    "    df_actions = pd.read_csv(f'{acitonFile_path}df_action_{model_name}_{i}.csv')\n",
    "    # weight 變動總和超過 change_threshold 才做變動(default 0)\n",
    "    df_return, df_portfolio_value = computeReturns(df_actions,trade, transCostRate=0.001, change_threshold=0)\n",
    "    returns, stats = getStats(df_return)\n",
    "\n",
    "    # Equal weight\n",
    "    equalWeight_actions = getEqualWeightActions(trade)\n",
    "    df_equalWeight_return, df_equalWeight_portfolio_value = computeReturns(equalWeight_actions,trade, transCostRate=0.001)\n",
    "    equalWeight_returns, equalWeight_stats = getStats(df_equalWeight_return)\n",
    "\n",
    "    # Min-Variance\n",
    "    # minVariance, minVariance_stats = getMinVariance(trade)\n",
    "    minVariance_actions = getMinVarianceActions(trade)\n",
    "    df_minVariance_return, df_minVariance_portfolio_value = computeReturns(minVariance_actions,trade, transCostRate=0.001)\n",
    "    minVariance_returns, minVariance_stats = getStats(df_minVariance_return)\n",
    "\n",
    "    # All In Stock\n",
    "    all_stock_actions= getTicActions(trade, 'VTI')\n",
    "    df_stock_return, df_stock_value = computeReturns(all_stock_actions,trade, transCostRate=0.001)\n",
    "    stock_returns, stock_stats = getStats(df_stock_return)\n",
    "\n",
    "    # All In Debt\n",
    "    all_debt_actions= getTicActions(trade, 'TLT')\n",
    "    df_debt_return, df_debt_value = computeReturns(all_debt_actions,trade, transCostRate=0.001)\n",
    "    debt_returns, debt_stats = getStats(df_debt_return)\n",
    "\n",
    "    # All In Reit\n",
    "    all_reit_actions= getTicActions(trade, 'VNQ')\n",
    "    df_reit_return, df_reit_value = computeReturns(all_reit_actions,trade, transCostRate=0.001)\n",
    "    reit_returns, reit_stats = getStats(df_reit_return)\n",
    "    \n",
    "    df_stats = pd.concat({'Ours': stats,\n",
    "                          'equalWeight': equalWeight_stats,\n",
    "                          'minVariance':minVariance_stats,\n",
    "                          'stock': stock_stats,\n",
    "                          'debt': debt_stats,\n",
    "                          'reit': reit_stats},axis=1)\n",
    "\n",
    "    # get each year stats\n",
    "    df_annualReturn_allYear = stats_allYear(i, 'Annual return', df_stats, df_annualReturn_allYear)\n",
    "    df_mdd_allYear = stats_allYear(i, 'Max drawdown', df_stats, df_mdd_allYear)\n",
    "    df_sharpe_allYear = stats_allYear(i, 'Sharpe ratio', df_stats, df_sharpe_allYear)\n",
    "    df_sortino_allYear = stats_allYear(i, 'Sortino ratio', df_stats, df_sortino_allYear)           \n",
    "    df_calmar_allYear = stats_allYear(i, 'Calmar ratio', df_stats, df_calmar_allYear)\n",
    "\n",
    "    # get each rank\n",
    "    df_annualReturn_rank_allYear = rankCaculate(i, 'Annual return', df_stats, df_annualReturn_rank_allYear)\n",
    "    df_mdd_rank_allYear = rankCaculate(i, 'Max drawdown', df_stats, df_mdd_rank_allYear)\n",
    "    df_sharpe_rank_allYear = rankCaculate(i, 'Sharpe ratio', df_stats, df_sharpe_rank_allYear)\n",
    "    df_sortino_rank_allYear = rankCaculate(i, 'Sortino ratio', df_stats, df_sortino_rank_allYear)\n",
    "    df_calmar_rank_allYear = rankCaculate(i, 'Calmar ratio', df_stats, df_calmar_rank_allYear)"
   ]
  },
  {
   "cell_type": "code",
   "execution_count": null,
   "metadata": {},
   "outputs": [],
   "source": [
    "df_annualReturn_allYear_avg = average_allYear(df_annualReturn_allYear)\n",
    "df_annualReturn_allYear_avg.to_csv(f'{save_path}/df_annualReturn.csv')\n",
    "df_annualReturn_allYear_avg"
   ]
  },
  {
   "cell_type": "code",
   "execution_count": null,
   "metadata": {},
   "outputs": [],
   "source": [
    "df_mdd_allYear_avg = average_allYear(df_mdd_allYear)\n",
    "df_mdd_allYear_avg.to_csv(f'{save_path}/df_mdd.csv')\n",
    "df_mdd_allYear_avg"
   ]
  },
  {
   "cell_type": "code",
   "execution_count": null,
   "metadata": {},
   "outputs": [],
   "source": [
    "df_sharpe_allYear_avg = average_allYear(df_sharpe_allYear)\n",
    "df_sharpe_allYear_avg.to_csv(f'{save_path}/df_sharpe.csv')\n",
    "df_sharpe_allYear_avg"
   ]
  },
  {
   "cell_type": "code",
   "execution_count": null,
   "metadata": {},
   "outputs": [],
   "source": [
    "df_sortino_allYear_avg = average_allYear(df_sortino_allYear)\n",
    "df_sortino_allYear_avg.to_csv(f'{save_path}/df_sortino.csv')\n",
    "df_sortino_allYear_avg"
   ]
  },
  {
   "cell_type": "code",
   "execution_count": null,
   "metadata": {},
   "outputs": [],
   "source": [
    "df_calmar_allYear_avg = average_allYear(df_calmar_allYear)\n",
    "df_calmar_allYear_avg.to_csv(f'{save_path}/df_calmar.csv')\n",
    "df_calmar_allYear_avg"
   ]
  },
  {
   "cell_type": "code",
   "execution_count": null,
   "metadata": {},
   "outputs": [],
   "source": [
    "df_annualReturn_rank_allYear_avg = average_allYear(df_annualReturn_rank_allYear)\n",
    "df_annualReturn_rank_allYear_avg"
   ]
  },
  {
   "cell_type": "code",
   "execution_count": null,
   "metadata": {},
   "outputs": [],
   "source": [
    "df_mdd_rank_allYear_avg  = average_allYear(df_mdd_rank_allYear)\n",
    "df_mdd_rank_allYear_avg "
   ]
  },
  {
   "cell_type": "code",
   "execution_count": null,
   "metadata": {},
   "outputs": [],
   "source": [
    "df_sharpe_rank_allYear_avg = average_allYear(df_sharpe_rank_allYear)\n",
    "df_sharpe_rank_allYear_avg "
   ]
  },
  {
   "cell_type": "code",
   "execution_count": null,
   "metadata": {},
   "outputs": [],
   "source": [
    "df_sortino_rank_allYear_avg = average_allYear(df_sortino_rank_allYear)\n",
    "df_sortino_rank_allYear_avg"
   ]
  },
  {
   "cell_type": "code",
   "execution_count": null,
   "metadata": {},
   "outputs": [],
   "source": [
    "df_calmar_rank_allYear_avg = average_allYear(df_calmar_rank_allYear)\n",
    "df_calmar_rank_allYear_avg"
   ]
  },
  {
   "cell_type": "code",
   "execution_count": null,
   "metadata": {},
   "outputs": [],
   "source": []
  }
 ],
 "metadata": {
  "interpreter": {
   "hash": "c2d2e8e450be3e223dc413b7f8a28490ca56561e6968625b0b65da592ce3e9cb"
  },
  "kernelspec": {
   "display_name": "Python 3.9.1 ('FinRL': venv)",
   "language": "python",
   "name": "python3"
  },
  "language_info": {
   "codemirror_mode": {
    "name": "ipython",
    "version": 3
   },
   "file_extension": ".py",
   "mimetype": "text/x-python",
   "name": "python",
   "nbconvert_exporter": "python",
   "pygments_lexer": "ipython3",
   "version": "3.9.1"
  },
  "orig_nbformat": 4
 },
 "nbformat": 4,
 "nbformat_minor": 2
}
