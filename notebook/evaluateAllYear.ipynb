{
 "cells": [
  {
   "cell_type": "code",
   "execution_count": null,
   "metadata": {},
   "outputs": [],
   "source": [
    "# 回到 FINRL/\n",
    "%cd .."
   ]
  },
  {
   "cell_type": "code",
   "execution_count": null,
   "metadata": {},
   "outputs": [],
   "source": [
    "from AI_Trading.src import config\n",
    "from AI_Trading.src.env_portfolio_allocation import *\n",
    "from AI_Trading.src.evaluatePortfolioPerformance import *\n",
    "from AI_Trading.src import model_config\n",
    "from AI_Trading.src.preprocess import *\n",
    "from AI_Trading.src.generatePortfolioAction import *\n",
    "from AI_Trading.src.train import *\n",
    "from AI_Trading.src.customizedEnv import *\n",
    "from stable_baselines3 import A2C, DDPG, PPO, SAC, TD3\n",
    "import pandas as pd\n",
    "from tqdm import tqdm\n",
    "from warnings import simplefilter\n",
    "simplefilter(action='ignore')\n",
    "import matplotlib.pyplot as plt\n",
    "matplotlib.use('Agg')\n",
    "%matplotlib inline"
   ]
  },
  {
   "cell_type": "code",
   "execution_count": null,
   "metadata": {},
   "outputs": [],
   "source": [
    "#evaluate setting\n",
    "exp = 'test'\n",
    "#調整對應檔案路徑\n",
    "acitonFile_path = f'/Users/shrshiunhuang/Documents/Project/FinRL/AI_Trading/results/{exp}/'\n",
    "model_name = 'PPO'\n",
    "save_path = os.path.join(config.EVALUATE_RESULT_PATH, exp)\n",
    "if not os.path.isdir(save_path):\n",
    "    try:\n",
    "        os.mkdir(save_path)\n",
    "    except Exception:\n",
    "        print(f'no folder {save_path}')\n",
    "        pass"
   ]
  },
  {
   "cell_type": "code",
   "execution_count": null,
   "metadata": {},
   "outputs": [],
   "source": [
    "dir_list = [config.RESULTS_DIR]\n",
    "for path in dir_list:\n",
    "    if not os.path.isdir(path):\n",
    "        try:\n",
    "            os.mkdir(path)\n",
    "        except Exception:\n",
    "            print(f'no folder {path}')\n",
    "            pass"
   ]
  },
  {
   "cell_type": "code",
   "execution_count": null,
   "metadata": {},
   "outputs": [],
   "source": [
    "# (with total revenu)\n",
    "df_annualReturn_allYear = pd.DataFrame()\n",
    "df_mdd_allYear = pd.DataFrame()\n",
    "df_sharpe_allYear = pd.DataFrame()\n",
    "df_sortino_allYear = pd.DataFrame()\n",
    "df_calmar_allYear = pd.DataFrame()\n",
    "\n",
    "df_annualReturn_rank_allYear = pd.DataFrame()\n",
    "df_mdd_rank_allYear = pd.DataFrame()\n",
    "df_sharpe_rank_allYear = pd.DataFrame()\n",
    "df_sortino_rank_allYear = pd.DataFrame()\n",
    "df_calmar_rank_allYear = pd.DataFrame()\n",
    "\n",
    "df_action_all = pd.DataFrame()\n",
    "df_trade_all = pd.DataFrame()\n",
    "\n",
    "df_action_all_eq = pd.DataFrame()\n",
    "df_trade_all_eq = pd.DataFrame()\n",
    "\n",
    "df_action_all_82 = pd.DataFrame()\n",
    "df_trade_all_82 = pd.DataFrame()\n",
    "\n",
    "df_action_all_mv = pd.DataFrame()\n",
    "df_trade_all_mv = pd.DataFrame()\n",
    "\n",
    "df_action_all_stock = pd.DataFrame()\n",
    "df_action_all_debt = pd.DataFrame()\n",
    "df_action_all_reit = pd.DataFrame()\n",
    "\n",
    "change_threshold_list = [0.3, 0.9, 0.6, 0.7, 0.8, 0.4, 0.8, 0.8, 0.8, 0.8, 0.6, 0.8, 0.9, 0.7, 0.9]\n",
    "# evaluate\n",
    "for i in tqdm(range(len(config.TEST_START_DATE))):\n",
    "        train,trade = preprocess(config.TRAIN_START_DATE[i], config.TRAIN_END_DATE[i], config.TEST_START_DATE[i], config.TEST_END_DATE[i],cov=True, adjClose=True)\n",
    "\n",
    "        # load actions file\n",
    "        df_actions = pd.read_csv(f'{acitonFile_path}df_action_{model_name}_{i}.csv')\n",
    "        if((df_actions.columns == config.DF_ACTION_ORDER).any()):\n",
    "            # weight 變動總和超過 change_threshold 才做變動(default 0)\n",
    "            df_return, df_portfolio_value = computeReturns(df_actions,trade, transCostRate=0.001)\n",
    "            returns, stats = getStats(df_return)\n",
    "\n",
    "            # weight 變動總和超過 change_threshold 才做變動(依 val 決定)\n",
    "            df_return2, df_portfolio_value2 = computeReturns(df_actions,trade, change_threshold=change_threshold_list[i], transCostRate=0.001)\n",
    "            returns2, stats2 = getStats(df_return2)\n",
    "\n",
    "            # weight 變動總和超過 change_threshold 才做變動(60%)\n",
    "            df_return3, df_portfolio_value3 = computeReturns(df_actions,trade, change_threshold=0.55, transCostRate=0.001)\n",
    "            returns3, stats3 = getStats(df_return3)\n",
    "\n",
    "            # Equal weight\n",
    "            equalWeight_actions = getScaleWeightActions(trade, stock=3.3333334, debt=3.3333333, reit=3.3333333)\n",
    "            df_equalWeight_return, df_equalWeight_portfolio_value = computeReturns(equalWeight_actions,trade, transCostRate=0.001, rebalance=False)\n",
    "            equalWeight_returns, equalWeight_stats = getStats(df_equalWeight_return)\n",
    "\n",
    "            #stock(8) debt(2)\n",
    "            scaleWeight82_actions = getScaleWeightActions(trade, stock=8, debt=2)\n",
    "            df_scaleWeight82_return, df_scaleWeight82_portfolio_value = computeReturns(scaleWeight82_actions,trade, transCostRate=0.001, change_threshold=0, rebalance=False)\n",
    "            scaleWeight82_returns, scaleWeight82_stats = getStats(df_scaleWeight82_return)\n",
    "\n",
    "            # # stock(7) debt(3)\n",
    "            # scaleWeight73_actions = getScaleWeightActions(trade, stock=7, debt=3)\n",
    "            # df_scaleWeight73_return, df_scaleWeight73_portfolio_value = computeReturns(scaleWeight73_actions,trade, transCostRate=0.001)\n",
    "            # scaleWeight73_returns, scaleWeight73_stats = getStats(df_scaleWeight73_return)\n",
    "\n",
    "            # # stock(6) debt(4)\n",
    "            # scaleWeight64_actions = getScaleWeightActions(trade, stock=6, debt=4)\n",
    "            # df_scaleWeight64_return, df_scaleWeight64_portfolio_value = computeReturns(scaleWeight64_actions,trade, transCostRate=0.001)\n",
    "            # scaleWeight64_returns, scaleWeight64_stats = getStats(df_scaleWeight64_return)\n",
    "\n",
    "            # Min-Variance\n",
    "            minVariance_actions = getMinVarianceActions(trade)\n",
    "            # minVariance_actions.to_csv(f'{acitonFile_path}/minVariance/df_action_DDPG_{i}.csv')\n",
    "            df_minVariance_return, df_minVariance_portfolio_value = computeReturns(minVariance_actions,trade, transCostRate=0.001)\n",
    "            minVariance_returns, minVariance_stats = getStats(df_minVariance_return)\n",
    "\n",
    "            # # MaxSharpe\n",
    "            # maxSharpe_actions = getMaxSharpeActions(trade)\n",
    "            # # maxSharpe_actions.to_csv(f'{acitonFile_path}/maxSharpe/df_action_DDPG_{i}.csv')\n",
    "            # df_maxSharpe_return, df_maxSharpe_portfolio_value = computeReturns(maxSharpe_actions,trade, transCostRate=0.001)\n",
    "            # maxSharpe_returns, maxSharpe_stats = getStats(df_maxSharpe_return)\n",
    "\n",
    "            # All In Stock\n",
    "            all_stock_actions= getScaleWeightActions(trade, stock=1)\n",
    "            df_stock_return, df_stock_value = computeReturns(all_stock_actions,trade, transCostRate=0.001)\n",
    "            stock_returns, stock_stats = getStats(df_stock_return)\n",
    "\n",
    "            # All In Debt\n",
    "            all_debt_actions= getScaleWeightActions(trade, debt=1)\n",
    "            df_debt_return, df_debt_value = computeReturns(all_debt_actions,trade, transCostRate=0.001)\n",
    "            debt_returns, debt_stats = getStats(df_debt_return)\n",
    "\n",
    "            # All In Reit\n",
    "            all_reit_actions= getScaleWeightActions(trade, reit=1)\n",
    "            df_reit_return, df_reit_value = computeReturns(all_reit_actions,trade, transCostRate=0.001)\n",
    "            reit_returns, reit_stats = getStats(df_reit_return)\n",
    "            \n",
    "            df_stats = pd.concat({\n",
    "                                'Ours': stats,\n",
    "                                'threshold': stats2,\n",
    "                                '60%': stats3,\n",
    "                                'equalWeight': equalWeight_stats,\n",
    "                                'stock(8)debt(2)': scaleWeight82_stats,\n",
    "                                # 'stock(7)debt(3)': scaleWeight73_stats,\n",
    "                                # 'stock(6)debt(4)': scaleWeight64_stats,\n",
    "                                'minVariance':minVariance_stats,\n",
    "                                # 'maxSharpe':maxSharpe_stats,\n",
    "                                'stock': stock_stats,\n",
    "                                'debt': debt_stats,\n",
    "                                'reit': reit_stats\n",
    "                                },axis=1)\n",
    "\n",
    "            # get each year stats\n",
    "            df_annualReturn_allYear = stats_allYear(i, 'Annual return', df_stats, df_annualReturn_allYear)\n",
    "            df_mdd_allYear = stats_allYear(i, 'Max drawdown', df_stats, df_mdd_allYear)\n",
    "            df_sharpe_allYear = stats_allYear(i, 'Sharpe ratio', df_stats, df_sharpe_allYear)\n",
    "            df_sortino_allYear = stats_allYear(i, 'Sortino ratio', df_stats, df_sortino_allYear)           \n",
    "            df_calmar_allYear = stats_allYear(i, 'Calmar ratio', df_stats, df_calmar_allYear)\n",
    "\n",
    "            # get each rank\n",
    "            # df_annualReturn_rank_allYear = rankCaculate(i, 'Annual return', df_stats, df_annualReturn_rank_allYear)\n",
    "            # df_mdd_rank_allYear = rankCaculate(i, 'Max drawdown', df_stats, df_mdd_rank_allYear)\n",
    "            # df_sharpe_rank_allYear = rankCaculate(i, 'Sharpe ratio', df_stats, df_sharpe_rank_allYear)\n",
    "            # df_sortino_rank_allYear = rankCaculate(i, 'Sortino ratio', df_stats, df_sortino_rank_allYear)\n",
    "            # df_calmar_rank_allYear = rankCaculate(i, 'Calmar ratio', df_stats, df_calmar_rank_allYear)\n",
    "\n",
    "            action = df_actions\n",
    "            action_eq = equalWeight_actions\n",
    "            action_82 = scaleWeight82_actions\n",
    "            action_mv =  minVariance_actions\n",
    "            action_stock =  all_stock_actions\n",
    "            action_debt =  all_debt_actions\n",
    "            action_reit =  all_reit_actions\n",
    "\n",
    "            # padding\n",
    "            if i > 0:\n",
    "                action.TLT.iloc[0] = lastWeight_TLT\n",
    "                action.VNQ.iloc[0] = lastWeight_VNQ\n",
    "                action.VTI.iloc[0] = lastWeight_VTI\n",
    "                \n",
    "                action_eq.TLT.iloc[0] = lastWeight_TLT_eq\n",
    "                action_eq.VNQ.iloc[0] = lastWeight_VNQ_eq\n",
    "                action_eq.VTI.iloc[0] = lastWeight_VTI_eq\n",
    "\n",
    "                action_82.TLT.iloc[0] = lastWeight_TLT_82\n",
    "                action_82.VNQ.iloc[0] = lastWeight_VNQ_82\n",
    "                action_82.VTI.iloc[0] = lastWeight_VTI_82\n",
    "\n",
    "                action_mv.TLT.iloc[0] = lastWeight_TLT_mv\n",
    "                action_mv.VNQ.iloc[0] = lastWeight_VNQ_mv\n",
    "                action_mv.VTI.iloc[0] = lastWeight_VTI_mv\n",
    "\n",
    "                action_debt.TLT.iloc[0] = lastWeight_TLT_debt\n",
    "                action_reit.VNQ.iloc[0] = lastWeight_VNQ_reit\n",
    "                action_stock.VTI.iloc[0] = lastWeight_VTI_stock\n",
    "\n",
    "            lastWeight_TLT = action.TLT.iloc[-1]\n",
    "            lastWeight_VNQ = action.VNQ.iloc[-1]\n",
    "            lastWeight_VTI = action.VTI.iloc[-1]\n",
    "\n",
    "            lastWeight_TLT_eq = action_eq.TLT.iloc[-1]\n",
    "            lastWeight_VNQ_eq = action_eq.VNQ.iloc[-1]\n",
    "            lastWeight_VTI_eq = action_eq.VTI.iloc[-1]\n",
    "\n",
    "            lastWeight_TLT_82 = action_82.TLT.iloc[-1]\n",
    "            lastWeight_VNQ_82 = action_82.VNQ.iloc[-1]\n",
    "            lastWeight_VTI_82 = action_82.VTI.iloc[-1]\n",
    "\n",
    "            lastWeight_TLT_mv = action_mv.TLT.iloc[-1]\n",
    "            lastWeight_VNQ_mv = action_mv.VNQ.iloc[-1]\n",
    "            lastWeight_VTI_mv = action_mv.VTI.iloc[-1]\n",
    "\n",
    "            lastWeight_TLT_debt = action_debt.TLT.iloc[-1]\n",
    "            lastWeight_VNQ_reit = action_reit.VNQ.iloc[-1]\n",
    "            lastWeight_VTI_stock = action_stock.VTI.iloc[-1]\n",
    "            \n",
    "            df_action_all = pd.concat([df_action_all,action],axis=0,ignore_index=True)\n",
    "            df_trade_all = pd.concat([df_trade_all,trade],axis=0,ignore_index=True)\n",
    "\n",
    "            df_action_all_eq = pd.concat([df_action_all_eq,action_eq],axis=0,ignore_index=True)\n",
    "            df_trade_all_eq = pd.concat([df_trade_all_eq,trade],axis=0,ignore_index=True)\n",
    "\n",
    "            df_action_all_82 = pd.concat([df_action_all_82,action_82],axis=0,ignore_index=True)\n",
    "            df_trade_all_82 = pd.concat([df_trade_all_82,trade],axis=0,ignore_index=True)\n",
    "\n",
    "            df_action_all_mv = pd.concat([df_action_all_mv,action_mv],axis=0,ignore_index=True)\n",
    "            df_trade_all_mv = pd.concat([df_trade_all_mv,trade],axis=0,ignore_index=True)\n",
    "\n",
    "            df_action_all_stock = pd.concat([df_action_all_stock,action_stock],axis=0,ignore_index=True)\n",
    "            df_action_all_debt = pd.concat([df_action_all_debt,action_debt],axis=0,ignore_index=True)\n",
    "            df_action_all_reit = pd.concat([df_action_all_reit,action_reit],axis=0,ignore_index=True)\n",
    "        else:\n",
    "            print('order of title is wrong!')"
   ]
  },
  {
   "cell_type": "code",
   "execution_count": null,
   "metadata": {},
   "outputs": [],
   "source": [
    "df_return_all, df_portfolio_value_all = computeReturns(df_action_all,df_trade_all, transCostRate=0.001, change_threshold=0, rebalance=False)\n",
    "returns_all, stats_all = getStats(df_return_all)\n",
    "print(df_portfolio_value_all[-1:])\n",
    "pd.DataFrame(stats_all)"
   ]
  },
  {
   "cell_type": "code",
   "execution_count": null,
   "metadata": {},
   "outputs": [],
   "source": [
    "df_return_all, df_portfolio_value_all = computeReturns(df_action_all,df_trade_all, transCostRate=0, change_threshold=0, rebalance=False)\n",
    "returns_all, stats_all = getStats(df_return_all)\n",
    "print('threshold:0 ; transCost=0')\n",
    "print(df_portfolio_value_all[-1:])\n",
    "pd.DataFrame(stats_all)"
   ]
  },
  {
   "cell_type": "code",
   "execution_count": null,
   "metadata": {},
   "outputs": [],
   "source": [
    "df_return_all_ct, df_portfolio_value_all = computeReturns(df_action_all,df_trade_all, transCostRate=0.001, change_threshold=0.55)\n",
    "# df_action_all.to_csv(f'{acitonFile_path}/df_action_DDPG_all.csv')\n",
    "# df_portfolio_value_all.to_csv(f'{acitonFile_path}/df_portfolio_value_DDPG_all_from2010.csv')\n",
    "returns_all_ct, stats_all = getStats(df_return_all_ct)\n",
    "print(df_portfolio_value_all[-1:])\n",
    "pd.DataFrame(stats_all)"
   ]
  },
  {
   "cell_type": "code",
   "execution_count": null,
   "metadata": {},
   "outputs": [],
   "source": [
    "df_return_all_ct, df_portfolio_value_all = computeReturns(df_action_all,df_trade_all, transCostRate=0, change_threshold=0.6)\n",
    "# df_action_all.to_csv(f'{acitonFile_path}/df_action_DDPG_all.csv')\n",
    "# df_portfolio_value_all.to_csv(f'{acitonFile_path}/df_portfolio_value_DDPG_all_from2010.csv')\n",
    "returns_all_ct, stats_all = getStats(df_return_all_ct)\n",
    "print('threshold:0.6 ; transCost=0')\n",
    "print(df_portfolio_value_all[-1:])\n",
    "pd.DataFrame(stats_all)"
   ]
  },
  {
   "cell_type": "code",
   "execution_count": null,
   "metadata": {},
   "outputs": [],
   "source": [
    "df_return_all_eq, df_equalWeight_portfolio_value = computeReturns(df_action_all_eq,df_trade_all_eq, transCostRate=0, rebalance=True)\n",
    "df_action_all_eq.to_csv(f'{acitonFile_path}/df_action_DDPG_eq.csv')\n",
    "df_equalWeight_portfolio_value.to_csv(f'{acitonFile_path}/df_portfolio_value_DDPG_all_eq.csv')\n",
    "returns_all_eq, stats_all = getStats(df_return_all_eq)\n",
    "print(df_equalWeight_portfolio_value[-1:])\n",
    "pd.DataFrame(stats_all)"
   ]
  },
  {
   "cell_type": "code",
   "execution_count": null,
   "metadata": {},
   "outputs": [],
   "source": [
    "df_return_all_mv, df_minVariance_portfolio_value = computeReturns(df_action_all_mv,df_trade_all, transCostRate=0)\n",
    "# df_action_all.to_csv(f'{acitonFile_path}/df_action_DDPG_all.csv')\n",
    "# df_minVariance_portfolio_value.to_csv(f'{acitonFile_path}/df_portfolio_value_scaleWeight82_all_from2010.csv')\n",
    "returns_all_mv, stats_all = getStats(df_return_all_mv)\n",
    "print(df_minVariance_portfolio_value[-1:])\n",
    "pd.DataFrame(stats_all)"
   ]
  },
  {
   "cell_type": "code",
   "execution_count": null,
   "metadata": {},
   "outputs": [],
   "source": [
    "df_return_all_82, df_scaleWeight82_portfolio_value = computeReturns(df_action_all_82,df_trade_all_82, transCostRate=0, rebalance=True)\n",
    "# df_action_all.to_csv(f'{acitonFile_path}/df_action_DDPG_all.csv')\n",
    "# df_scaleWeight82_portfolio_value.to_csv(f'{acitonFile_path}/df_portfolio_value_scaleWeight82_all_from2010.csv')\n",
    "returns_all_82, stats_all = getStats(df_return_all_82)\n",
    "print(df_scaleWeight82_portfolio_value[-1:])\n",
    "pd.DataFrame(stats_all)"
   ]
  },
  {
   "cell_type": "code",
   "execution_count": null,
   "metadata": {},
   "outputs": [],
   "source": [
    "df_return_all_stock, df_scaleWeight_stock_portfolio_value = computeReturns(df_action_all_stock,df_trade_all, transCostRate=0.01, rebalance=False)\n",
    "# df_action_all.to_csv(f'{acitonFile_path}/df_action_DDPG_all.csv')\n",
    "# df_scaleWeight82_portfolio_value.to_csv(f'{acitonFile_path}/df_portfolio_value_scaleWeight82_all_from2010.csv')\n",
    "returns_all_stock, stats_all = getStats(df_return_all_stock)\n",
    "print(df_scaleWeight_stock_portfolio_value[-1:])\n",
    "pd.DataFrame(stats_all)"
   ]
  },
  {
   "cell_type": "code",
   "execution_count": null,
   "metadata": {},
   "outputs": [],
   "source": [
    "df_return_all_debt, df_scaleWeight_debt_portfolio_value = computeReturns(df_action_all_debt,df_trade_all, transCostRate=0, rebalance=False)\n",
    "# df_action_all.to_csv(f'{acitonFile_path}/df_action_DDPG_all.csv')\n",
    "# df_scaleWeight82_portfolio_value.to_csv(f'{acitonFile_path}/df_portfolio_value_scaleWeight82_all_from2010.csv')\n",
    "returns_all_debt, stats_all = getStats(df_return_all_debt)\n",
    "print(df_scaleWeight_debt_portfolio_value[-1:])\n",
    "pd.DataFrame(stats_all)"
   ]
  },
  {
   "cell_type": "code",
   "execution_count": null,
   "metadata": {},
   "outputs": [],
   "source": [
    "df_return_all_reit, df_scaleWeight_reit_portfolio_value = computeReturns(df_action_all_reit,df_trade_all, transCostRate=0, rebalance=False)\n",
    "# df_action_all.to_csv(f'{acitonFile_path}/df_action_DDPG_all.csv')\n",
    "# df_scaleWeight82_portfolio_value.to_csv(f'{acitonFile_path}/df_portfolio_value_scaleWeight82_all_from2010.csv')\n",
    "returns_all_reit, stats_all = getStats(df_return_all_reit)\n",
    "print(df_scaleWeight_reit_portfolio_value[-1:])\n",
    "df_stats =pd.DataFrame(stats_all)\n"
   ]
  },
  {
   "cell_type": "code",
   "execution_count": null,
   "metadata": {},
   "outputs": [],
   "source": [
    "df_annualReturn_allYear_avg = average_allYear(df_annualReturn_allYear)\n",
    "df_annualReturn_allYear_avg.to_csv(f'{save_path}/df_annualReturn.csv')\n",
    "df_annualReturn_allYear_avg"
   ]
  },
  {
   "cell_type": "code",
   "execution_count": null,
   "metadata": {},
   "outputs": [],
   "source": [
    "df_mdd_allYear_avg = average_allYear(df_mdd_allYear)\n",
    "df_mdd_allYear_avg.to_csv(f'{save_path}/df_mdd.csv')\n",
    "df_mdd_allYear_avg"
   ]
  },
  {
   "cell_type": "code",
   "execution_count": null,
   "metadata": {},
   "outputs": [],
   "source": [
    "df_calmar_allYear_avg = average_allYear(df_calmar_allYear)\n",
    "df_calmar_allYear_avg.to_csv(f'{save_path}/df_calmar.csv')\n",
    "df_calmar_allYear_avg"
   ]
  },
  {
   "cell_type": "code",
   "execution_count": null,
   "metadata": {},
   "outputs": [],
   "source": [
    "df_sharpe_allYear_avg = average_allYear(df_sharpe_allYear)\n",
    "df_sharpe_allYear_avg.to_csv(f'{save_path}/df_sharpe.csv')\n",
    "df_sharpe_allYear_avg"
   ]
  },
  {
   "cell_type": "code",
   "execution_count": null,
   "metadata": {},
   "outputs": [],
   "source": [
    "df_sortino_allYear_avg = average_allYear(df_sortino_allYear)\n",
    "df_sortino_allYear_avg.to_csv(f'{save_path}/df_sortino.csv')\n",
    "df_sortino_allYear_avg"
   ]
  },
  {
   "cell_type": "code",
   "execution_count": null,
   "metadata": {},
   "outputs": [],
   "source": [
    "df_annualReturn_rank_allYear_avg = average_allYear(df_annualReturn_rank_allYear)\n",
    "df_annualReturn_rank_allYear_avg"
   ]
  },
  {
   "cell_type": "code",
   "execution_count": null,
   "metadata": {},
   "outputs": [],
   "source": [
    "df_mdd_rank_allYear_avg  = average_allYear(df_mdd_rank_allYear)\n",
    "df_mdd_rank_allYear_avg "
   ]
  },
  {
   "cell_type": "code",
   "execution_count": null,
   "metadata": {},
   "outputs": [],
   "source": [
    "df_sharpe_rank_allYear_avg = average_allYear(df_sharpe_rank_allYear)\n",
    "df_sharpe_rank_allYear_avg "
   ]
  },
  {
   "cell_type": "code",
   "execution_count": null,
   "metadata": {},
   "outputs": [],
   "source": [
    "df_sortino_rank_allYear_avg = average_allYear(df_sortino_rank_allYear)\n",
    "df_sortino_rank_allYear_avg"
   ]
  },
  {
   "cell_type": "code",
   "execution_count": null,
   "metadata": {},
   "outputs": [],
   "source": [
    "df_calmar_rank_allYear_avg = average_allYear(df_calmar_rank_allYear)\n",
    "df_calmar_rank_allYear_avg"
   ]
  },
  {
   "cell_type": "code",
   "execution_count": null,
   "metadata": {},
   "outputs": [],
   "source": [
    "df_select = pd.DataFrame(columns = ['year', 'DDPG', 'Equal' , 'MinVar', '8:2'])\n",
    "for year in range(2008, 2022, 1):\n",
    "    year_begin = str(year)+'-01-01'\n",
    "    year_end = str(year+1)+'-01-01'\n",
    "    select_ddpg_pv = df_portfolio_value_all.loc[(df_portfolio_value_all['date']>=year_begin)&(df_portfolio_value_all['date']<year_end), 'portfolio_value']\n",
    "    select_equal_pv = df_equalWeight_portfolio_value.loc[(df_equalWeight_portfolio_value['date']>=year_begin)&(df_equalWeight_portfolio_value['date']<year_end), 'portfolio_value']\n",
    "    select_minvar_pv = df_minVariance_portfolio_value.loc[(df_minVariance_portfolio_value['date']>=year_begin)&(df_minVariance_portfolio_value['date']<year_end), 'portfolio_value']\n",
    "    select_82_pv = df_scaleWeight82_portfolio_value.loc[(df_scaleWeight82_portfolio_value['date']>=year_begin)&(df_scaleWeight82_portfolio_value['date']<year_end), 'portfolio_value']\n",
    "    \n",
    "    select_ddpg_return = (select_ddpg_pv.iloc[-1] - select_ddpg_pv.iloc[0])/select_ddpg_pv.iloc[0]\n",
    "    select_equal_return = (select_equal_pv.iloc[-1] - select_equal_pv.iloc[0])/select_equal_pv.iloc[0]\n",
    "    select_minvar_return = (select_minvar_pv.iloc[-1] - select_minvar_pv.iloc[0])/select_minvar_pv.iloc[0]\n",
    "    select_82_return = (select_82_pv.iloc[-1] - select_82_pv.iloc[0])/select_82_pv.iloc[0]\n",
    "    \n",
    "    df_select = df_select.append({'year':str(year), 'DDPG': select_ddpg_return, 'Equal': select_equal_return, 'MinVar': select_minvar_return, '8:2':select_82_return}, ignore_index=True)"
   ]
  },
  {
   "cell_type": "code",
   "execution_count": null,
   "metadata": {},
   "outputs": [],
   "source": [
    "VTI = pd.read_csv('./AI_Trading/data/VTI.csv')\n",
    "TLT = pd.read_csv('./AI_Trading/data/TLT.csv')\n",
    "VNQ = pd.read_csv('./AI_Trading/data/VNQ.csv')\n",
    "weight_price_plot(exp, df_action_all, VTI, TLT, VNQ, rolling_window=10, time_period = 180, price_return=False)"
   ]
  },
  {
   "cell_type": "code",
   "execution_count": null,
   "metadata": {},
   "outputs": [],
   "source": [
    "cumulativeReturnPlot(returns_all, returns_all_82, returns_all_eq, returns_all_mv, returns_all_stock, returns_all_debt, returns_all_reit)"
   ]
  },
  {
   "cell_type": "code",
   "execution_count": null,
   "metadata": {},
   "outputs": [],
   "source": [
    "import matplotlib.pyplot as plt\n",
    "fig,ax0 = plt.subplots()\n",
    "alpha = ['base', '1', '10', '100', '500', '1000']\n",
    "avg = [0.898, 1.487, 1.848, 1.587, 2.364, 1.842]\n",
    "median = [1.505, 0.711, 1.688, 0.789, 0.924, 0.093]\n",
    "culmulate = [0.282352, 0.062745, 0.142813, 0.091681, 0.131873, 0.208957]\n",
    "calmar = [0, 34878.94, 24041.08, 61979.18, 31523.75, 87333]\n",
    "x = range(6)\n",
    "plt.xticks(ticks=x, labels=alpha)\n",
    "ax0.bar(x,calmar, color=['lightgray'])\n",
    "ax0.set_ylabel('sum(calmar)')\n",
    "ax1 = ax0.twinx()\n",
    "ax1.plot(x,avg,'r')\n",
    "ax1.plot(x,median, 'g')\n",
    "ax1.plot(x,culmulate, 'orange')\n",
    "ax1.legend([\"Avgerage\", \"Median\", \"cumulated\", \"calmar\"])\n",
    "ax1.set_ylabel('calmar')\n",
    "plt.title('clamar')\n",
    "\n",
    "plt.show()"
   ]
  },
  {
   "cell_type": "code",
   "execution_count": null,
   "metadata": {},
   "outputs": [],
   "source": [
    "import matplotlib.pyplot as plt\n",
    "fig,ax0 = plt.subplots()\n",
    "alpha = ['base', '0.1', '1', '10', '100', '500', '1000']\n",
    "avg = [-0.133, -0.130, -0.114, -0.107, -0.103, -0.107, -0.136]\n",
    "median = [-0.128, -0.100, -0.075, -0.068, -0.079, -0.079, -0.100]\n",
    "culmulate = [-0.320818, -0.366038, -0.318437, -0.318443, -0.2925, -0.302868, -0.438215]\n",
    "mdd = [0, -125.37, -103.80, -99.39, -97.31, -99.91, -129.36]\n",
    "x = range(7)\n",
    "plt.xticks(ticks=x, labels=alpha)\n",
    "ax0.bar(x,mdd, color=['lightgray'])\n",
    "ax0.set_ylabel('sum(mdd)')\n",
    "ax1 = ax0.twinx()\n",
    "ax1.plot(x,avg,'r')\n",
    "ax1.plot(x,median, 'g')\n",
    "ax1.plot(x,culmulate, 'orange')\n",
    "ax1.legend([\"Avgerage\", \"Median\", \"cumulated\", \"calmar\"])\n",
    "ax1.set_ylabel('mdd')\n",
    "plt.title('mdd')\n",
    "\n",
    "plt.show()"
   ]
  },
  {
   "cell_type": "code",
   "execution_count": null,
   "metadata": {},
   "outputs": [],
   "source": [
    "import matplotlib.pyplot as plt\n",
    "fig,ax0 = plt.subplots()\n",
    "alpha = ['base', '-1', '-10', '-100', '-500', '-1000']\n",
    "avg = [-0.133,  -0.143, -0.111, -0.118, -0.107, -0.113]\n",
    "median = [-0.128, -0.113, -0.079, -0.852, -0.079, -0.068]\n",
    "culmulate = [-0.320818, -0.469703, -0.336283, -0.327378, -0.292502, -0.318443]\n",
    "var = [0, 0.023264, 0.0165686, 0.018773, 0.015510, 0.014889]\n",
    "x = range(6)\n",
    "plt.xticks(ticks=x, labels=alpha)\n",
    "ax0.bar(x, var, color=['lightgray'])\n",
    "ax0.set_ylabel('mean(var)')\n",
    "ax1 = ax0.twinx()\n",
    "ax1.plot(x,avg,'r')\n",
    "ax1.plot(x,median, 'g')\n",
    "ax1.plot(x,culmulate, 'orange')\n",
    "ax1.legend([\"Avgerage\", \"Median\", \"cumulated\", \"calmar\"])\n",
    "ax1.set_ylabel('mdd')\n",
    "plt.title('risk(volaitility)')\n",
    "\n",
    "plt.show()"
   ]
  },
  {
   "cell_type": "code",
   "execution_count": null,
   "metadata": {},
   "outputs": [],
   "source": []
  }
 ],
 "metadata": {
  "interpreter": {
   "hash": "c2d2e8e450be3e223dc413b7f8a28490ca56561e6968625b0b65da592ce3e9cb"
  },
  "kernelspec": {
   "display_name": "Python 3.9.1 ('FinRL': venv)",
   "language": "python",
   "name": "python3"
  },
  "language_info": {
   "codemirror_mode": {
    "name": "ipython",
    "version": 3
   },
   "file_extension": ".py",
   "mimetype": "text/x-python",
   "name": "python",
   "nbconvert_exporter": "python",
   "pygments_lexer": "ipython3",
   "version": "3.9.1"
  },
  "orig_nbformat": 4
 },
 "nbformat": 4,
 "nbformat_minor": 2
}
