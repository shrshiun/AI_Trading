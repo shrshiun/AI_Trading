{
 "cells": [
  {
   "cell_type": "code",
   "execution_count": null,
   "metadata": {},
   "outputs": [],
   "source": [
    "# 回到 FINRL/\n",
    "%cd .."
   ]
  },
  {
   "cell_type": "code",
   "execution_count": null,
   "metadata": {},
   "outputs": [],
   "source": [
    "from AI_Trading.src import config\n",
    "from AI_Trading.src.env_portfolio_allocation import *\n",
    "from AI_Trading.src.evaluate import *\n",
    "from AI_Trading.src import model_config\n",
    "from AI_Trading.src.preprocess import *\n",
    "from AI_Trading.src.testPortfolio import *\n",
    "from AI_Trading.src.train import *\n",
    "from AI_Trading.src.augmentation import *\n",
    "from stable_baselines3 import A2C, DDPG, PPO, SAC, TD3\n",
    "import pandas as pd\n",
    "from warnings import simplefilter\n",
    "simplefilter(action='ignore')\n",
    "import matplotlib.pyplot as plt\n",
    "matplotlib.use('Agg')\n",
    "%matplotlib inline"
   ]
  },
  {
   "cell_type": "code",
   "execution_count": null,
   "metadata": {},
   "outputs": [],
   "source": [
    "from datetime import datetime\n",
    "from dateutil.relativedelta import relativedelta\n",
    "TRAIN_START = []\n",
    "TRAIN_END = []\n",
    "TEST_START = []\n",
    "TEST_END = []\n",
    "\n",
    "# TRAIN_START_DATE = '2005-09-28'\n",
    "TRAIN_START_DATE = '2005-01-01'\n",
    "TRAIN_END_DATE = '2007-12-31'\n",
    "TEST_START_DATE = '2008-01-01'\n",
    "TEST_END_DATE = '2008-12-31'\n",
    "\n",
    "for i in range(14):\n",
    "    train_s = datetime.strptime(TRAIN_START_DATE, \"%Y-%m-%d\").date()\n",
    "    train_e = datetime.strptime(TRAIN_END_DATE, \"%Y-%m-%d\").date()\n",
    "    test_s = datetime.strptime(TEST_START_DATE, \"%Y-%m-%d\").date()\n",
    "    test_e = datetime.strptime(TEST_END_DATE, \"%Y-%m-%d\").date()\n",
    "    TRAIN_START.append(str(train_s + relativedelta(years=i)))\n",
    "    TRAIN_END.append(str(train_e + relativedelta(years=i)))\n",
    "    TEST_START.append(str(test_s + relativedelta(years=i)))\n",
    "    TEST_END.append(str(test_e + relativedelta(years=i)))\n",
    "\n",
    "print(TRAIN_START)\n",
    "print(TRAIN_END)\n",
    "print(TEST_START)\n",
    "print(TEST_END)"
   ]
  }
 ],
 "metadata": {
  "language_info": {
   "name": "python"
  },
  "orig_nbformat": 4
 },
 "nbformat": 4,
 "nbformat_minor": 2
}
