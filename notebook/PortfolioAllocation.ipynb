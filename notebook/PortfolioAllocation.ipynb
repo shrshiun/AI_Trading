{
 "cells": [
  {
   "cell_type": "code",
   "execution_count": null,
   "metadata": {},
   "outputs": [],
   "source": [
    "# 回到 FINRL/\n",
    "%cd .."
   ]
  },
  {
   "cell_type": "code",
   "execution_count": null,
   "metadata": {},
   "outputs": [],
   "source": [
    "from AI_Trading.src import config\n",
    "from AI_Trading.src.env_portfolio_allocation import *\n",
    "from AI_Trading.src.evaluate import *\n",
    "from AI_Trading.src import model_config\n",
    "from AI_Trading.src.preprocess import *\n",
    "from AI_Trading.src.testPortfolio import *\n",
    "from AI_Trading.src.train import *\n",
    "from stable_baselines3 import A2C, DDPG, PPO, SAC, TD3\n",
    "import pandas as pd\n",
    "from warnings import simplefilter\n",
    "simplefilter(action='ignore')\n",
    "import matplotlib.pyplot as plt\n",
    "matplotlib.use('Agg')\n",
    "%matplotlib inline"
   ]
  },
  {
   "cell_type": "code",
   "execution_count": null,
   "metadata": {},
   "outputs": [],
   "source": [
    "# data preprocess\n",
    "train,trade = preprocess(config.TRAIN_START_DATE[0], config.TRAIN_END_DATE[12], config.TEST_START_DATE[12], config.TEST_END_DATE[12])\n"
   ]
  },
  {
   "cell_type": "code",
   "execution_count": null,
   "metadata": {},
   "outputs": [],
   "source": [
    "env_kwargs = {\n",
    "        \"hmax\": 100, \n",
    "        \"initial_amount\": config.INITIAL_AMOUNT, \n",
    "        \"transaction_cost_pct\": 0.001, \n",
    "        \"state_space\": len(train.tic.unique()), \n",
    "        \"stock_dim\": len(train.tic.unique()), \n",
    "        \"tech_indicator_list\": config.INDICATORS, \n",
    "        \"action_space\": len(train.tic.unique()), \n",
    "        \"reward_scaling\": 1e-4,\n",
    "    }\n",
    "\n",
    "env_train = portfolioAllocationEnv(df = train, **env_kwargs)\n",
    "\n",
    "\n",
    "env_trade = portfolioAllocationEnv(df = trade, **env_kwargs)"
   ]
  },
  {
   "cell_type": "code",
   "execution_count": null,
   "metadata": {},
   "outputs": [],
   "source": [
    "# train\n",
    "model_index = 0\n",
    "model_name = 'A2C'\n",
    "trainPortfolioAllocation(env_train, model_name, model_index)"
   ]
  },
  {
   "cell_type": "code",
   "execution_count": null,
   "metadata": {},
   "outputs": [],
   "source": [
    "# load model\n",
    "model_zip_path = config.TRAINED_MODEL_PATH + model_name + '_' + str(model_index) + '.zip'\n",
    "if model_name == 'A2C':\n",
    "    model = A2C.load(model_zip_path)\n",
    "elif model_name == 'PPO':\n",
    "    model = PPO.load(model_zip_path)\n",
    "elif model_name == 'DDPG':\n",
    "    model = DDPG.load(model_zip_path)\n",
    "elif model_name == 'TD3':\n",
    "    model = TD3.load(model_zip_path)\n",
    "elif model_name == 'SAC':\n",
    "    model = SAC.load(model_zip_path)"
   ]
  },
  {
   "cell_type": "code",
   "execution_count": null,
   "metadata": {},
   "outputs": [],
   "source": [
    "# test\n",
    "df_daily_return, df_actions = test_portfolioAllocation(model, env_trade)\n",
    "df_daily_return.to_csv(config.RESULTS_DIR + 'df_daily_return')\n",
    "df_actions.to_csv(config.RESULTS_DIR + 'df_actions')"
   ]
  },
  {
   "cell_type": "code",
   "execution_count": null,
   "metadata": {},
   "outputs": [],
   "source": [
    "# evaluate\n",
    "print(\"==============DRL Strategy Stats===========\")\n",
    "DRL_returns, DRL_stats = getStats(df_daily_return)\n",
    "DRL_stats"
   ]
  },
  {
   "cell_type": "code",
   "execution_count": null,
   "metadata": {},
   "outputs": [],
   "source": [
    "print(\"==============Equal Weight Strategy Stats===========\")\n",
    "equalWeight_actions = getEqualWeightActions(trade)\n",
    "df_equalWeight_return, df_portfolio_value = computeReturns(equalWeight_actions,trade)\n",
    "equalWeight_returns, equalWeight_stats = getStats(df_equalWeight_return)\n",
    "equalWeight_stats"
   ]
  },
  {
   "cell_type": "code",
   "execution_count": null,
   "metadata": {},
   "outputs": [],
   "source": [
    "print(\"==============Min-Variance Strategy Stats===========\")\n",
    "minVariance, minVariance_stats = getMinVariance(trade)\n",
    "minVariance_stats"
   ]
  },
  {
   "cell_type": "code",
   "execution_count": null,
   "metadata": {},
   "outputs": [],
   "source": [
    "backtestPlot(DRL_returns, equalWeight_returns)"
   ]
  },
  {
   "cell_type": "code",
   "execution_count": null,
   "metadata": {},
   "outputs": [],
   "source": [
    "print(\"==============All In Stock Strategy Stats===========\")\n",
    "all_stock_actions= getTicActions(trade, 'VTI')\n",
    "df_stock_return, df_stock_value = computeReturns(all_stock_actions,trade)\n",
    "stock_returns, stock_stats = getStats(df_stock_return)\n",
    "stock_stats"
   ]
  },
  {
   "cell_type": "code",
   "execution_count": null,
   "metadata": {},
   "outputs": [],
   "source": [
    "print(\"==============All In Debt Strategy Stats===========\")\n",
    "all_debt_actions= getTicActions(trade, 'TLT')\n",
    "df_debt_return, df_debt_value = computeReturns(all_debt_actions,trade)\n",
    "debt_returns, debt_stats = getStats(df_debt_return)\n",
    "debt_stats"
   ]
  },
  {
   "cell_type": "code",
   "execution_count": null,
   "metadata": {},
   "outputs": [],
   "source": [
    "# print(\"==============All In Debt Strategy Stats===========\")\n",
    "# all_debt, debt_stats = getSingleStats(trade, 'TLT')"
   ]
  },
  {
   "cell_type": "code",
   "execution_count": null,
   "metadata": {},
   "outputs": [],
   "source": [
    "print(\"==============All In Reit Strategy Stats===========\")\n",
    "all_reit_actions= getTicActions(trade, 'VNQ')\n",
    "df_reit_return, df_reit_value = computeReturns(all_reit_actions,trade)\n",
    "reit_returns, reit_stats = getStats(df_reit_return)\n",
    "reit_stats"
   ]
  },
  {
   "cell_type": "code",
   "execution_count": null,
   "metadata": {},
   "outputs": [],
   "source": [
    "cumulativeReturnPlot(df_daily_return, minVariance, equalWeight_returns, stock_returns, debt_returns, reit_returns)"
   ]
  },
  {
   "cell_type": "code",
   "execution_count": null,
   "metadata": {},
   "outputs": [],
   "source": [
    "weightTrend_plot(df_actions)"
   ]
  },
  {
   "cell_type": "code",
   "execution_count": null,
   "metadata": {},
   "outputs": [],
   "source": [
    "\n",
    "df_VTI = load_data('./AI_Trading/data/VTI.csv', 'VTI')\n",
    "df_VNQ = load_data('./AI_Trading/data/VNQ.csv', 'VNQ')\n",
    "df_TLT = load_data('./AI_Trading/data/TLT.csv', 'TLT')"
   ]
  },
  {
   "cell_type": "code",
   "execution_count": null,
   "metadata": {},
   "outputs": [],
   "source": [
    "cumulativeReturnPlot_ETF(stock_returns, debt_returns, reit_returns)"
   ]
  },
  {
   "cell_type": "code",
   "execution_count": null,
   "metadata": {},
   "outputs": [],
   "source": [
    "closePlot_ETF(df_VTI, df_TLT, df_VNQ)"
   ]
  }
 ],
 "metadata": {
  "interpreter": {
   "hash": "c2d2e8e450be3e223dc413b7f8a28490ca56561e6968625b0b65da592ce3e9cb"
  },
  "kernelspec": {
   "display_name": "Python 3.9.1 ('FinRL': venv)",
   "language": "python",
   "name": "python3"
  },
  "language_info": {
   "codemirror_mode": {
    "name": "ipython",
    "version": 3
   },
   "file_extension": ".py",
   "mimetype": "text/x-python",
   "name": "python",
   "nbconvert_exporter": "python",
   "pygments_lexer": "ipython3",
   "version": "3.9.1"
  },
  "orig_nbformat": 4
 },
 "nbformat": 4,
 "nbformat_minor": 2
}
