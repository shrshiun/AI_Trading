{
 "cells": [
  {
   "cell_type": "code",
   "execution_count": null,
   "metadata": {},
   "outputs": [],
   "source": [
    "# 回到 FINRL/\n",
    "%cd .."
   ]
  },
  {
   "cell_type": "code",
   "execution_count": null,
   "metadata": {},
   "outputs": [],
   "source": [
    "from AI_Trading.src import config\n",
    "from AI_Trading.src.env_portfolio_allocation import *\n",
    "from AI_Trading.src.evaluate import *\n",
    "from AI_Trading.src import model_config\n",
    "from AI_Trading.src.preprocess import *\n",
    "from AI_Trading.src.testPortfolio import *\n",
    "from AI_Trading.src.train import *\n",
    "from AI_Trading.src.augmentation import *\n",
    "from stable_baselines3 import A2C, DDPG, PPO, SAC, TD3\n",
    "\n",
    "import pandas as pd\n",
    "from warnings import simplefilter\n",
    "simplefilter(action='ignore')\n",
    "import matplotlib.pyplot as plt\n",
    "matplotlib.use('Agg')\n",
    "%matplotlib inline"
   ]
  },
  {
   "cell_type": "code",
   "execution_count": null,
   "metadata": {},
   "outputs": [],
   "source": [
    "create_dir()"
   ]
  },
  {
   "cell_type": "code",
   "execution_count": null,
   "metadata": {},
   "outputs": [],
   "source": [
    "# data preprocess\n",
    "train,trade = preprocess(config.TRAIN_START_DATE[12], config.TRAIN_END_DATE[12], config.TEST_START_DATE[12], config.TEST_END_DATE[12])\n"
   ]
  },
  {
   "cell_type": "code",
   "execution_count": null,
   "metadata": {},
   "outputs": [],
   "source": [
    "# training setting\n",
    "model_index = 'test'\n",
    "model_name = 'A2C'\n",
    "exp = 'singleYear'\n",
    "\n",
    "training_log_path = f'{config.LOG_PATH}training_log_{exp}.csv'\n",
    "if os.path.exists(training_log_path):\n",
    "     os.remove(training_log_path)"
   ]
  },
  {
   "cell_type": "code",
   "execution_count": null,
   "metadata": {},
   "outputs": [],
   "source": [
    "env_kwargs = {\n",
    "        \"training_log_path\": training_log_path,\n",
    "        \"hmax\": 100, \n",
    "        \"initial_amount\": config.INITIAL_AMOUNT, \n",
    "        \"transaction_cost_pct\": 0.001, \n",
    "        \"state_space\": len(train.tic.unique()), \n",
    "        \"stock_dim\": len(train.tic.unique()), \n",
    "        \"tech_indicator_list\": config.INDICATORS, \n",
    "        \"action_space\": len(train.tic.unique()), \n",
    "        \"reward_scaling\": 1e-4\n",
    "    }\n",
    "\n",
    "env_train = portfolioAllocationEnv(df = train, is_test_set=False, **env_kwargs)\n",
    "env_trade = portfolioAllocationEnv(df = trade, is_test_set=True, **env_kwargs)\n",
    "\n",
    "# env_train = minReturnConcernEnv(df = train, is_test_set=False, **env_kwargs)\n",
    "# env_trade = minReturnConcernEnv(df = trade, is_test_set=True, **env_kwargs)\n",
    "\n",
    "# env_train = mddConcernEnv(df = train, is_test_set=False, **env_kwargs)\n",
    "# env_trade = mddConcernEnv(df = trade, is_test_set=True, **env_kwargs)\n",
    "\n",
    "# env_train = sharpeConcernEnv(df = train, is_test_set=False, **env_kwargs)\n",
    "# env_trade = sharpeConcernEnv(df = trade, is_test_set=True, **env_kwargs)\n"
   ]
  },
  {
   "cell_type": "code",
   "execution_count": null,
   "metadata": {},
   "outputs": [],
   "source": [
    "# train\n",
    "trainPortfolioAllocation(exp, env_train, model_name, model_index)"
   ]
  },
  {
   "cell_type": "code",
   "execution_count": null,
   "metadata": {},
   "outputs": [],
   "source": [
    "# load model\n",
    "model_zip_path = f'{config.TRAINED_MODEL_PATH}/{exp}/{model_name}_{str(model_index)}.zip'\n",
    "if model_name == 'A2C':\n",
    "    model = A2C.load(model_zip_path)\n",
    "elif model_name == 'PPO':\n",
    "    model = PPO.load(model_zip_path)\n",
    "elif model_name == 'DDPG':\n",
    "    model = DDPG.load(model_zip_path)\n",
    "elif model_name == 'TD3':\n",
    "    model = TD3.load(model_zip_path)\n",
    "elif model_name == 'SAC':\n",
    "    model = SAC.load(model_zip_path)"
   ]
  },
  {
   "cell_type": "code",
   "execution_count": null,
   "metadata": {},
   "outputs": [],
   "source": [
    "# test\n",
    "df_daily_return, df_actions = test_portfolioAllocation(model, env_trade)\n",
    "df_daily_return_index = df_daily_return.set_index('date')\n",
    "df_daily_return_index.to_csv(f'{config.RESULTS_DIR}df_daily_return_{exp}_{model_index}.csv')\n",
    "df_actions.to_csv(f'{config.RESULTS_DIR}df_action_{exp}_{model_index}.csv')"
   ]
  },
  {
   "cell_type": "code",
   "execution_count": null,
   "metadata": {},
   "outputs": [],
   "source": [
    "# evaluate\n",
    "print(\"==============DRL Strategy Stats===========\")\n",
    "DRL_returns, DRL_stats = getStats(df_daily_return)\n",
    "DRL_stats"
   ]
  },
  {
   "cell_type": "code",
   "execution_count": null,
   "metadata": {},
   "outputs": [],
   "source": [
    "print(\"==============Equal Weight Strategy Stats===========\")\n",
    "equalWeight_actions = getEqualWeightActions(trade)\n",
    "df_equalWeight_return, df_portfolio_value = computeReturns(equalWeight_actions,trade, transCostRate= 0.001)\n",
    "equalWeight_returns, equalWeight_stats = getStats(df_equalWeight_return)\n",
    "equalWeight_stats"
   ]
  },
  {
   "cell_type": "code",
   "execution_count": null,
   "metadata": {},
   "outputs": [],
   "source": [
    "print(\"==============Min-Variance Strategy Stats===========\")\n",
    "minVariance_actions = getMinVarianceActions(trade)\n",
    "df_minVariance_return, df_minVariance_portfolio_value = computeReturns(minVariance_actions,trade, transCostRate=0.001)\n",
    "minVariance_returns, minVariance_stats = getStats(df_minVariance_return)\n",
    "minVariance_stats"
   ]
  },
  {
   "cell_type": "code",
   "execution_count": null,
   "metadata": {},
   "outputs": [],
   "source": [
    "backtestPlot(DRL_returns, equalWeight_returns)"
   ]
  },
  {
   "cell_type": "code",
   "execution_count": null,
   "metadata": {},
   "outputs": [],
   "source": [
    "print(\"==============All In Stock Strategy Stats===========\")\n",
    "all_stock_actions= getTicActions(trade, 'VTI')\n",
    "df_stock_return, df_stock_value = computeReturns(all_stock_actions,trade, transCostRate=0.001)\n",
    "stock_returns, stock_stats = getStats(df_stock_return)\n",
    "stock_stats"
   ]
  },
  {
   "cell_type": "code",
   "execution_count": null,
   "metadata": {},
   "outputs": [],
   "source": [
    "print(\"==============All In Debt Strategy Stats===========\")\n",
    "all_debt_actions= getTicActions(trade, 'TLT')\n",
    "df_debt_return, df_debt_value = computeReturns(all_debt_actions,trade, transCostRate=0.001)\n",
    "debt_returns, debt_stats = getStats(df_debt_return)\n",
    "debt_stats"
   ]
  },
  {
   "cell_type": "code",
   "execution_count": null,
   "metadata": {},
   "outputs": [],
   "source": [
    "print(\"==============All In Reit Strategy Stats===========\")\n",
    "all_reit_actions= getTicActions(trade, 'VNQ')\n",
    "df_reit_return, df_reit_value = computeReturns(all_reit_actions,trade, transCostRate=0.001)\n",
    "reit_returns, reit_stats = getStats(df_reit_return)\n",
    "reit_stats"
   ]
  },
  {
   "cell_type": "code",
   "execution_count": null,
   "metadata": {},
   "outputs": [],
   "source": [
    "cumulativeReturnPlot(DRL_returns, equalWeight_returns, minVariance_returns, stock_returns, debt_returns, reit_returns)"
   ]
  },
  {
   "cell_type": "code",
   "execution_count": null,
   "metadata": {},
   "outputs": [],
   "source": [
    "weightTrend_plot(df_actions)"
   ]
  },
  {
   "cell_type": "code",
   "execution_count": null,
   "metadata": {},
   "outputs": [],
   "source": [
    "\n",
    "df_VTI = load_data('./AI_Trading/data/VTI.csv', 'VTI')\n",
    "df_VNQ = load_data('./AI_Trading/data/VNQ.csv', 'VNQ')\n",
    "df_TLT = load_data('./AI_Trading/data/TLT.csv', 'TLT')"
   ]
  },
  {
   "cell_type": "code",
   "execution_count": null,
   "metadata": {},
   "outputs": [],
   "source": [
    "cumulativeReturnPlot_ETF(stock_returns, debt_returns, reit_returns)"
   ]
  },
  {
   "cell_type": "code",
   "execution_count": null,
   "metadata": {},
   "outputs": [],
   "source": [
    "closePlot_ETF(df_VTI, df_TLT, df_VNQ)"
   ]
  },
  {
   "cell_type": "code",
   "execution_count": null,
   "metadata": {},
   "outputs": [],
   "source": [
    "# evaluate multi strategy\n",
    "base = pd.read_csv('./AI_Trading/results/df_daily_return_base_12.csv', index_col='date')\n",
    "mdd = pd.read_csv('./AI_Trading/results/df_daily_return_mdd_12.csv', index_col='date')\n",
    "sharpe = pd.read_csv('./AI_Trading/results/df_daily_return_sharpe_12.csv', index_col='date')\n",
    "minReturn = pd.read_csv('./AI_Trading/results/df_daily_return_minReturn_12.csv', index_col='date')\n",
    "cumulativeReturnPlot(base.daily_return, mdd.daily_return, minReturn.daily_return, stock_returns, debt_returns, reit_returns)"
   ]
  },
  {
   "cell_type": "code",
   "execution_count": null,
   "metadata": {},
   "outputs": [],
   "source": [
    "training_log = pd.read_csv('/Users/shrshiunhuang/Documents/Project/FinRL/AI_Trading/log/base/training_log_base_3.csv')\n",
    "training_log"
   ]
  },
  {
   "cell_type": "code",
   "execution_count": null,
   "metadata": {},
   "outputs": [],
   "source": [
    "# time_ind = training_log.index\n",
    "trace0_portfolio = go.Scatter(y =training_log['mdd'], mode = 'lines', name = 'mdd')\n",
    "# trace1_portfolio = go.Scatter(x = time_ind, y = all_debt.close, mode = 'lines', name = 'debt ETF')\n",
    "# trace2_portfolio = go.Scatter(x = time_ind, y = all_reit.close, mode = 'lines', name = 'reit ETF')\n",
    "\n",
    "fig = go.Figure()\n",
    "fig.add_trace(trace0_portfolio)\n",
    "# fig.add_trace(trace1_portfolio)\n",
    "# fig.add_trace(trace2_portfolio)\n",
    "fig.update_layout(\n",
    "    legend=dict(\n",
    "        x=0,\n",
    "        y=1,\n",
    "        traceorder=\"normal\",\n",
    "        font=dict(\n",
    "            family=\"sans-serif\",\n",
    "            size=10,\n",
    "            color=\"black\"\n",
    "        ),\n",
    "        bgcolor=\"White\",\n",
    "        bordercolor=\"white\",\n",
    "        borderwidth=2\n",
    "        \n",
    "    ),\n",
    ")\n",
    "fig.update_layout(title={\n",
    "        #'text': \"Cumulative Return using FinRL\",\n",
    "        'y':0.85,\n",
    "        'x':0.5,\n",
    "        'xanchor': 'center',\n",
    "        'yanchor': 'top'})\n",
    "#with Transaction cost\n",
    "fig.update_layout(\n",
    "    paper_bgcolor='rgba(1,1,0,0)',\n",
    "    plot_bgcolor='rgba(1, 1, 0, 0)',\n",
    "    #xaxis_title=\"Date\",\n",
    "    yaxis_title=\"Close Price\",\n",
    "# xaxis={'type': 'date',\n",
    "#     'tick0': time_ind[0],\n",
    "#         'tickmode': 'linear',\n",
    "#     'dtick': 86400000.0 *1000}\n",
    "\n",
    ")\n",
    "fig.update_xaxes(showline=True,linecolor='black',showgrid=True, gridwidth=1, gridcolor='LightSteelBlue',mirror=True)\n",
    "fig.update_yaxes(showline=True,linecolor='black',showgrid=True, gridwidth=1, gridcolor='LightSteelBlue',mirror=True)\n",
    "fig.update_yaxes(zeroline=True, zerolinewidth=1, zerolinecolor='LightSteelBlue')\n",
    "\n",
    "fig.show()"
   ]
  }
 ],
 "metadata": {
  "interpreter": {
   "hash": "c2d2e8e450be3e223dc413b7f8a28490ca56561e6968625b0b65da592ce3e9cb"
  },
  "kernelspec": {
   "display_name": "Python 3.9.1 ('FinRL': venv)",
   "language": "python",
   "name": "python3"
  },
  "language_info": {
   "codemirror_mode": {
    "name": "ipython",
    "version": 3
   },
   "file_extension": ".py",
   "mimetype": "text/x-python",
   "name": "python",
   "nbconvert_exporter": "python",
   "pygments_lexer": "ipython3",
   "version": "3.9.1"
  },
  "orig_nbformat": 4
 },
 "nbformat": 4,
 "nbformat_minor": 2
}
