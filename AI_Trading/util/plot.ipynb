{
 "cells": [
  {
   "cell_type": "code",
   "execution_count": null,
   "metadata": {},
   "outputs": [],
   "source": [
    "# Author: Mickey Huang\n",
    "import pandas as pd\n",
    "import numpy as np\n",
    "import matplotlib.pyplot as plt\n",
    "\n",
    "def moving_average(actions, rolling_window=20) :\n",
    "        ret = np.cumsum(actions, dtype=float)\n",
    "        ret[rolling_window:] = ret[rolling_window:] - ret[:-rolling_window]\n",
    "        return ret[rolling_window - 1:] / rolling_window\n",
    "    \n",
    "def load_data(filePath, name):\n",
    "    data = pd.read_csv(filePath)\n",
    "    data = data.rename(columns={'Date': 'date', 'Open': 'open', 'High': 'high', 'Low': 'low', 'Close': 'close', 'Adj Close': 'adjcp', 'Volume': 'volume'})\n",
    "    data['tic'] = name\n",
    "    return data\n",
    "\n",
    "def plot(actions, rolling_window, train_start_date, train_end_date, test_start_date, test_end_date):\n",
    "    if actions.shape[1] == 5: #with cash\n",
    "        actions = actions[['date', 'TLT', 'VNQ', 'VTI', 'Cash']]\n",
    "    elif actions.shape[1] == 4: #without cash\n",
    "        actions = actions[['date', 'TLT', 'VNQ', 'VTI']]\n",
    "    time_index = actions.date.values\n",
    "    time_index = [np.datetime64(x) for x in time_index]\n",
    "    \n",
    "    plt.rcParams[\"figure.figsize\"] = (15,6)\n",
    "    plt.plot(time_index[rolling_window-1:], moving_average(actions.iloc[:, 1].values, rolling_window))\n",
    "    plt.plot(time_index[rolling_window-1:], moving_average(actions.iloc[:, 2].values, rolling_window))\n",
    "    plt.plot(time_index[rolling_window-1:], moving_average(actions.iloc[:, 3].values, rolling_window))\n",
    "    plt.plot(time_index[rolling_window-1:], moving_average(actions.iloc[:, 4].values, rolling_window))\n",
    "    plt.ylim(0, 0.6)\n",
    "    plt.legend(['TLT','VNQ','VTI', 'Cash'])\n",
    "    plt.axvline(x = np.datetime64(test_start_date), color = 'purple', label = 'axvline - full height')\n",
    "    plt.title('weight of each component in period(' + train_start_date[:3] + '-' + test_start_date[:3] + ')')\n",
    "    plt.xlabel('year')\n",
    "    plt.ylabel('weights')\n",
    "    #plt.savefig('weight of each component in period(' + train_start_date[:3] + '-' + test_start_date[:3] + ')')\n",
    "    \n",
    "    TLT = load_data('../data/TLT.csv', 'TLT')\n",
    "    VTI = load_data('../data/VTI.csv', 'VTI')\n",
    "    VNQ = load_data('../data/VNQ.csv', 'VNQ')\n",
    "    tlt_close = TLT[(TLT.date>=train_start_date) & (TLT.date<test_end_date)].close.values[-actions.shape[0]:]\n",
    "    vnq_close = VNQ[(VNQ.date>=train_start_date) & (VNQ.date<test_end_date)].close.values[-actions.shape[0]:]\n",
    "    vti_close = VTI[(VTI.date>=train_start_date) & (VTI.date<test_end_date)].close.values[-actions.shape[0]:]\n",
    "    plt.figure()\n",
    "    plt.rcParams[\"figure.figsize\"] = (15,6)\n",
    "    plt.plot(time_index, tlt_close)\n",
    "    plt.plot(time_index, vnq_close)\n",
    "    plt.plot(time_index, vti_close)\n",
    "    plt.legend(['TLT', 'VNQ', 'VTI'])\n",
    "    plt.axvline(x = np.datetime64(test_start_date), color = 'purple', label = 'axvline - full height')\n",
    "    plt.title('price trend of each component in period(' + train_start_date[:3] + '-' + test_start_date[:3] + ')')\n",
    "    plt.xlabel('year')\n",
    "    plt.ylabel('price')\n",
    "    #lt.savefig('price trend of each component in period(' + train_start_date[:3] + '-' + test_start_date[:3] + ')')"
   ]
  },
  {
   "cell_type": "code",
   "execution_count": null,
   "metadata": {},
   "outputs": [],
   "source": [
    "# example\n",
    "action_path = '' # 請填入 action 路徑\n",
    "actions = pd.read_csv(action_path)\n",
    "plot(actions, 1, '2016-01-01', '2021-01-01', '2021-01-01', '2022-01-01')"
   ]
  }
 ],
 "metadata": {
  "interpreter": {
   "hash": "c2d2e8e450be3e223dc413b7f8a28490ca56561e6968625b0b65da592ce3e9cb"
  },
  "kernelspec": {
   "display_name": "Python 3.9.1 ('FinRL': venv)",
   "language": "python",
   "name": "python3"
  },
  "language_info": {
   "codemirror_mode": {
    "name": "ipython",
    "version": 3
   },
   "file_extension": ".py",
   "mimetype": "text/x-python",
   "name": "python",
   "nbconvert_exporter": "python",
   "pygments_lexer": "ipython3",
   "version": "3.9.1"
  },
  "orig_nbformat": 4
 },
 "nbformat": 4,
 "nbformat_minor": 2
}
